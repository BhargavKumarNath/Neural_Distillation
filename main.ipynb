{
 "cells": [
  {
   "cell_type": "markdown",
   "id": "019f6273",
   "metadata": {},
   "source": [
    "# Knowledge Distillation: Transformer to BiLSTM/CNN for text classification"
   ]
  },
  {
   "cell_type": "markdown",
   "id": "883a3d00",
   "metadata": {},
   "source": [
    "This project will implement knowledge distillation from a Transformer (tracher) to either a BiLSTM or CNN(student) model for text classification using the DBPedia dataset. We will compare the performance and compression gains between the architectures"
   ]
  },
  {
   "cell_type": "markdown",
   "id": "dc2875d9",
   "metadata": {},
   "source": [
    "Dataset: https://www.kaggle.com/datasets/danofer/dbpedia-classes/data\n"
   ]
  },
  {
   "cell_type": "markdown",
   "id": "6031105d",
   "metadata": {},
   "source": [
    "# Project Plan\n",
    "1. Data Preparation and Exploration\n",
    "2. Building the Teacher Model (Transformer)\n",
    "3. Building Student Models (BiLSTM and CNN)\n",
    "4. Implementing Knowledge Distillation\n",
    "5. Training and Evaluation\n",
    "6. Comparing Results"
   ]
  },
  {
   "cell_type": "markdown",
   "id": "4947745f",
   "metadata": {},
   "source": [
    "# 1. Data Preparation and Exploration"
   ]
  },
  {
   "cell_type": "code",
   "execution_count": 1,
   "id": "4c62016a",
   "metadata": {},
   "outputs": [],
   "source": [
    "# Import the necessary libraries\n",
    "import pandas as pd\n",
    "import numpy as np\n",
    "import torch\n",
    "import torch.optim as optim\n",
    "from torch.utils.data import Dataset, DataLoader\n",
    "import torch.nn.functional as F"
   ]
  },
  {
   "cell_type": "code",
   "execution_count": 2,
   "id": "12a48ebd",
   "metadata": {},
   "outputs": [],
   "source": [
    "# Set the seeds\n",
    "torch.manual_seed(46)\n",
    "np.random.seed(46)"
   ]
  },
  {
   "cell_type": "code",
   "execution_count": 3,
   "id": "3a447b51",
   "metadata": {},
   "outputs": [
    {
     "name": "stdout",
     "output_type": "stream",
     "text": [
      "Training set shape: (240942, 4)\n",
      "Validation set shape: (36003, 4)\n",
      "Test set shape: (60794, 4)\n"
     ]
    }
   ],
   "source": [
    "# Load dataset\n",
    "train_df = pd.read_csv(\"DBPEDIA_train.csv\")\n",
    "val_df = pd.read_csv(\"DBPEDIA_val.csv\")\n",
    "test_df = pd.read_csv(\"DBPEDIA_test.csv\")\n",
    "\n",
    "print(f\"Training set shape: {train_df.shape}\")\n",
    "print(f\"Validation set shape: {val_df.shape}\")\n",
    "print(f\"Test set shape: {test_df.shape}\")"
   ]
  },
  {
   "cell_type": "code",
   "execution_count": 4,
   "id": "000a6e0a",
   "metadata": {},
   "outputs": [
    {
     "name": "stdout",
     "output_type": "stream",
     "text": [
      "\n",
      "Class distribution (l1) in train set\n",
      "l1\n",
      "Agent             124798\n",
      "Place              45877\n",
      "Species            21472\n",
      "Work               21013\n",
      "Event              19106\n",
      "SportsSeason        5883\n",
      "UnitOfWork          1761\n",
      "TopicalConcept       784\n",
      "Device               248\n",
      "Name: count, dtype: int64\n"
     ]
    }
   ],
   "source": [
    "# Check class distribution, l1 for simplicity\n",
    "print(\"\\nClass distribution (l1) in train set\")\n",
    "print(train_df[\"l1\"].value_counts())"
   ]
  },
  {
   "cell_type": "code",
   "execution_count": 5,
   "id": "300a0dc2",
   "metadata": {},
   "outputs": [
    {
     "name": "stdout",
     "output_type": "stream",
     "text": [
      "\n",
      "Text length statistics:\n",
      "count    240942.000000\n",
      "mean        626.702339\n",
      "std         533.338240\n",
      "min          50.000000\n",
      "25%         247.000000\n",
      "50%         450.000000\n",
      "75%         831.000000\n",
      "max        3944.000000\n",
      "Name: text_length, dtype: float64\n"
     ]
    }
   ],
   "source": [
    "# Basic text stats\n",
    "train_df[\"text_length\"] = train_df[\"text\"].apply(len)\n",
    "print(\"\\nText length statistics:\")\n",
    "print(train_df[\"text_length\"].describe())"
   ]
  },
  {
   "cell_type": "code",
   "execution_count": 6,
   "id": "8b897fab",
   "metadata": {},
   "outputs": [
    {
     "data": {
      "image/png": "[encoded data removed]",
      "text/plain": [
       "<Figure size 1000x600 with 1 Axes>"
      ]
     },
     "metadata": {},
     "output_type": "display_data"
    }
   ],
   "source": [
    "# Visualise text length distribution\n",
    "import matplotlib.pyplot as plt\n",
    "import seaborn as sns\n",
    "\n",
    "plt.figure(figsize=(10, 6))\n",
    "sns.histplot(train_df[\"text_length\"], bins=50)\n",
    "plt.title(\"Text Length Distribution\")\n",
    "plt.xlabel(\"Text Length\")\n",
    "plt.ylabel(\"Frequency\")\n",
    "plt.show()\n"
   ]
  },
  {
   "cell_type": "code",
   "execution_count": 7,
   "id": "d6ef50e2",
   "metadata": {},
   "outputs": [
    {
     "name": "stdout",
     "output_type": "stream",
     "text": [
      "\n",
      "Missing values in training set:\n",
      "text           0\n",
      "l1             0\n",
      "l2             0\n",
      "l3             0\n",
      "text_length    0\n",
      "dtype: int64\n"
     ]
    }
   ],
   "source": [
    "# Check for missing values\n",
    "print(\"\\nMissing values in training set:\")\n",
    "print(train_df.isnull().sum())"
   ]
  },
  {
   "cell_type": "code",
   "execution_count": 8,
   "id": "754d5f21",
   "metadata": {},
   "outputs": [
    {
     "name": "stdout",
     "output_type": "stream",
     "text": [
      "\n",
      "Sample data:\n"
     ]
    },
    {
     "data": {
      "text/html": [
       "<div>\n",
       "<style scoped>\n",
       "    .dataframe tbody tr th:only-of-type {\n",
       "        vertical-align: middle;\n",
       "    }\n",
       "\n",
       "    .dataframe tbody tr th {\n",
       "        vertical-align: top;\n",
       "    }\n",
       "\n",
       "    .dataframe thead th {\n",
       "        text-align: right;\n",
       "    }\n",
       "</style>\n",
       "<table border=\"1\" class=\"dataframe\">\n",
       "  <thead>\n",
       "    <tr style=\"text-align: right;\">\n",
       "      <th></th>\n",
       "      <th>text</th>\n",
       "      <th>l1</th>\n",
       "      <th>l2</th>\n",
       "      <th>l3</th>\n",
       "      <th>text_length</th>\n",
       "    </tr>\n",
       "  </thead>\n",
       "  <tbody>\n",
       "    <tr>\n",
       "      <th>0</th>\n",
       "      <td>William Alexander Massey (October 7, 1856 – Ma...</td>\n",
       "      <td>Agent</td>\n",
       "      <td>Politician</td>\n",
       "      <td>Senator</td>\n",
       "      <td>1402</td>\n",
       "    </tr>\n",
       "    <tr>\n",
       "      <th>1</th>\n",
       "      <td>Lions is the sixth studio album by American ro...</td>\n",
       "      <td>Work</td>\n",
       "      <td>MusicalWork</td>\n",
       "      <td>Album</td>\n",
       "      <td>1183</td>\n",
       "    </tr>\n",
       "    <tr>\n",
       "      <th>2</th>\n",
       "      <td>Pirqa (Aymara and Quechua for wall, hispaniciz...</td>\n",
       "      <td>Place</td>\n",
       "      <td>NaturalPlace</td>\n",
       "      <td>Mountain</td>\n",
       "      <td>366</td>\n",
       "    </tr>\n",
       "  </tbody>\n",
       "</table>\n",
       "</div>"
      ],
      "text/plain": [
       "                                                text     l1            l2  \\\n",
       "0  William Alexander Massey (October 7, 1856 – Ma...  Agent    Politician   \n",
       "1  Lions is the sixth studio album by American ro...   Work   MusicalWork   \n",
       "2  Pirqa (Aymara and Quechua for wall, hispaniciz...  Place  NaturalPlace   \n",
       "\n",
       "         l3  text_length  \n",
       "0   Senator         1402  \n",
       "1     Album         1183  \n",
       "2  Mountain          366  "
      ]
     },
     "execution_count": 8,
     "metadata": {},
     "output_type": "execute_result"
    }
   ],
   "source": [
    "# Display some examples\n",
    "print(\"\\nSample data:\")\n",
    "train_df.head(3)"
   ]
  },
  {
   "cell_type": "markdown",
   "id": "87cac1dd",
   "metadata": {},
   "source": [
    "# 1.2 Data Preprocessing and Tokenization"
   ]
  },
  {
   "cell_type": "markdown",
   "id": "c29e0cfa",
   "metadata": {},
   "source": [
    "Now I will create the preprocessing pipeline and setup tokenizers for both the teacher and student model."
   ]
  },
  {
   "cell_type": "code",
   "execution_count": 9,
   "id": "3c18fde5",
   "metadata": {},
   "outputs": [],
   "source": [
    "import nltk\n",
    "from nltk.corpus import stopwords\n",
    "from nltk.tokenize import word_tokenize\n",
    "\n",
    "# Download the NLTK resources\n",
    "# nltk.download(\"punkt\")\n",
    "# nltk.download(\"stopwords\")"
   ]
  },
  {
   "cell_type": "code",
   "execution_count": 10,
   "id": "62ea8842",
   "metadata": {},
   "outputs": [],
   "source": [
    "# Define the preprocessing function\n",
    "import re\n",
    "\n",
    "def preprocess_text(text):\n",
    "    text = text.lower()\n",
    "\n",
    "    # remove special chars\n",
    "    text = re.sub(r\"[^\\w\\s]\", \"\", text)\n",
    "    text = re.sub(r\"\\d+\", \"\", text)\n",
    "    text = re.sub(r\"\\s+\", \"\", text).strip()\n",
    "\n",
    "    # tokenize\n",
    "    tokens = word_tokenize(text)\n",
    "\n",
    "    return \" \".join(tokens)\n"
   ]
  },
  {
   "cell_type": "code",
   "execution_count": 11,
   "id": "28d4ac13",
   "metadata": {},
   "outputs": [
    {
     "name": "stdout",
     "output_type": "stream",
     "text": [
      "Preprocessing text data...\n",
      "Number of classes (l1): 9\n",
      "Classes: ['Agent' 'Device' 'Event' 'Place' 'Species' 'SportsSeason'\n",
      " 'TopicalConcept' 'UnitOfWork' 'Work']\n"
     ]
    }
   ],
   "source": [
    "# Apply the preprocessing to all datasets\n",
    "from sklearn.preprocessing import LabelEncoder\n",
    "\n",
    "print(\"Preprocessing text data...\")\n",
    "train_df[\"processed_text\"] = train_df[\"text\"].apply(preprocess_text)\n",
    "val_df[\"processed_text\"] = val_df[\"text\"].apply(preprocess_text)\n",
    "test_df[\"processed_text\"] = test_df[\"text\"].apply(preprocess_text)\n",
    "\n",
    "# Encode target label\n",
    "label_encoder_l1 = LabelEncoder()\n",
    "train_df[\"l1_encoded\"] = label_encoder_l1.fit_transform(train_df[\"l1\"])\n",
    "val_df[\"l1_encoded\"] = label_encoder_l1.transform(val_df[\"l1\"])\n",
    "test_df[\"l1_encoded\"] = label_encoder_l1.transform(test_df[\"l1\"])\n",
    "\n",
    "num_classes = len(label_encoder_l1.classes_)\n",
    "print(f\"Number of classes (l1): {num_classes}\")\n",
    "print(f\"Classes: {label_encoder_l1.classes_}\")"
   ]
  },
  {
   "cell_type": "code",
   "execution_count": 12,
   "id": "379f2698",
   "metadata": {},
   "outputs": [],
   "source": [
    "# Create vocab for the student models\n",
    "def build_vocab(texts, max_vocab_size=30000):\n",
    "    word_counts = {}\n",
    "    for text in texts:\n",
    "        for word in text.split():\n",
    "            if word in word_counts:\n",
    "                word_counts[word] += 1\n",
    "            else:\n",
    "                word_counts[word] = 1\n",
    "    \n",
    "    # Sort words by frequency\n",
    "    sorted_words = sorted(word_counts.items(), key=lambda x: x[1], reverse=True)\n",
    "\n",
    "    # Create word to index mapping\n",
    "    word_to_idx = {\"<PAD>\": 0, \"<UNK>\":1}\n",
    "    for i, (word, _) in enumerate(sorted_words[:max_vocab_size-2]):\n",
    "        word_to_idx[word] = i+2\n",
    "    \n",
    "    return word_to_idx"
   ]
  },
  {
   "cell_type": "code",
   "execution_count": 13,
   "id": "76882d40",
   "metadata": {},
   "outputs": [
    {
     "name": "stdout",
     "output_type": "stream",
     "text": [
      "Building vocabulary for student models...\n",
      "Vocabulary size: 30000\n"
     ]
    }
   ],
   "source": [
    "# Build vocab from the train set\n",
    "print(\"Building vocabulary for student models...\")\n",
    "word_to_idx = build_vocab(train_df[\"processed_text\"])\n",
    "vocab_size = len(word_to_idx)\n",
    "print(f\"Vocabulary size: {vocab_size}\")"
   ]
  },
  {
   "cell_type": "code",
   "execution_count": 14,
   "id": "da9951d5",
   "metadata": {},
   "outputs": [
    {
     "data": {
      "text/plain": [
       "PreTrainedTokenizerFast(name_or_path='distilbert-base-uncased', vocab_size=30522, model_max_len=512, is_fast=True, padding_side='right', truncation_side='right', special_tokens={'unk_token': '[UNK]', 'sep_token': '[SEP]', 'pad_token': '[PAD]', 'cls_token': '[CLS]', 'mask_token': '[MASK]'})"
      ]
     },
     "execution_count": 14,
     "metadata": {},
     "output_type": "execute_result"
    }
   ],
   "source": [
    "# For the transformer I will use the pre trained tokenizer\n",
    "from transformers import AutoTokenizer, AutoModel\n",
    "\n",
    "transformer_tokenizer = AutoTokenizer.from_pretrained(\"distilbert-base-uncased\")\n",
    "transformer_tokenizer"
   ]
  },
  {
   "cell_type": "code",
   "execution_count": 15,
   "id": "58415778",
   "metadata": {},
   "outputs": [],
   "source": [
    "## Create Custom Dataset classes\n",
    "class TextDataset(Dataset):\n",
    "    def __init__(self, texts, labels, word_to_idx, max_len=128):\n",
    "        self.texts = texts\n",
    "        self.labels = labels\n",
    "        self.word_to_idx = word_to_idx\n",
    "        self.max_len = max_len\n",
    "    \n",
    "    def __len__(self):\n",
    "        return len(self.texts)\n",
    "    \n",
    "    def __getitem__(self, idx):\n",
    "        text = self.texts[idx].split()\n",
    "        # Truncate or pad the sequence\n",
    "        if len(text) > self.max_len:\n",
    "            text = text[:self.max_len]\n",
    "        else:\n",
    "            text += [\"<PAD>\"] * (self.max_len - len(text))\n",
    "        \n",
    "        # Convert words to indicies\n",
    "        indices = [self.word_to_idx.get(word, self.word_to_idx[\"<UNK>\"]) for word in text]\n",
    "\n",
    "        return {\n",
    "            \"input_ids\": torch.tensor(indices),\n",
    "            \"labels\": torch.tensor(self.labels[idx], dtype=torch.long)\n",
    "        }"
   ]
  },
  {
   "cell_type": "code",
   "execution_count": 16,
   "id": "336b0941",
   "metadata": {},
   "outputs": [],
   "source": [
    "class TransformerDataset(Dataset):\n",
    "    def __init__(self, texts, labels, tokenizer, max_len=128):\n",
    "        self.texts = texts\n",
    "        self.labels = labels\n",
    "        self.tokenizer = tokenizer\n",
    "        self.max_len = max_len\n",
    "    \n",
    "    def __len__(self):\n",
    "        return len(self.texts)\n",
    "    \n",
    "    def __getitem__(self, idx):\n",
    "        text = self.texts[idx]\n",
    "        encoding = self.tokenizer(\n",
    "            text,\n",
    "            add_special_tokens = True,\n",
    "            max_length = self.max_len,\n",
    "            padding = \"max_length\",\n",
    "            truncation = True,\n",
    "            return_attention_mask = True,\n",
    "            return_tensors = \"pt\"\n",
    "        )\n",
    "\n",
    "        return {\n",
    "            \"input_ids\": encoding[\"input_ids\"].flatten(),\n",
    "            \"attention_mask\": encoding[\"attention_mask\"].flatten(),\n",
    "            \"labels\": torch.tensor(self.labels[idx], dtype=torch.long)\n",
    "        }\n",
    "    "
   ]
  },
  {
   "cell_type": "code",
   "execution_count": 17,
   "id": "79f4ae84",
   "metadata": {},
   "outputs": [],
   "source": [
    "# Creating datasets\n",
    "MAX_LEN = 128\n",
    "BATCH_SIZE = 32\n",
    "\n",
    "# For students\n",
    "train_dataset = TextDataset(\n",
    "    train_df[\"processed_text\"].tolist(),\n",
    "    train_df[\"l1_encoded\"].tolist(),\n",
    "    word_to_idx,\n",
    "    max_len=MAX_LEN\n",
    ")\n",
    "\n",
    "val_dataset = TextDataset(\n",
    "    val_df[\"processed_text\"].tolist(),\n",
    "    val_df[\"l1_encoded\"].tolist(),\n",
    "    word_to_idx,\n",
    "    max_len=MAX_LEN\n",
    ")\n",
    "\n",
    "test_dataset = TextDataset(\n",
    "    test_df[\"processed_text\"].tolist(),\n",
    "    test_df[\"l1_encoded\"].tolist(),\n",
    "    word_to_idx,\n",
    "    max_len=MAX_LEN\n",
    ")\n",
    "\n",
    "# For transformer model\n",
    "train_transformer_dataset = TransformerDataset(\n",
    "    train_df[\"processed_text\"].tolist(),\n",
    "    train_df[\"l1_encoded\"].tolist(),\n",
    "    transformer_tokenizer,\n",
    "    max_len=MAX_LEN\n",
    ")\n",
    "\n",
    "val_transformer_dataset = TransformerDataset(\n",
    "    val_df[\"processed_text\"].tolist(),\n",
    "    val_df[\"l1_encoded\"].tolist(),\n",
    "    transformer_tokenizer,\n",
    "    max_len=MAX_LEN\n",
    ")\n",
    "\n",
    "test_transformer_dataset = TransformerDataset(\n",
    "    test_df[\"processed_text\"].tolist(),\n",
    "    test_df[\"l1_encoded\"].tolist(),\n",
    "    transformer_tokenizer,\n",
    "    max_len=MAX_LEN\n",
    ")"
   ]
  },
  {
   "cell_type": "code",
   "execution_count": 18,
   "id": "8ce66d15",
   "metadata": {},
   "outputs": [
    {
     "name": "stdout",
     "output_type": "stream",
     "text": [
      "Sample batch shape for student models (input_ids): torch.Size([32, 128])\n",
      "Sample batch shape for student models (labels): torch.Size([32])\n",
      "Sample batch shape for transformer (input_id): torch.Size([32, 128])\n",
      "Sample batch shape for transformer (attention_mask): torch.Size([32, 128])\n",
      "Sample batch shape for transformer (labels): torch.Size([32])\n"
     ]
    }
   ],
   "source": [
    "# Create data loaders\n",
    "train_loader = DataLoader(train_dataset, batch_size=BATCH_SIZE, shuffle=True)\n",
    "val_loader = DataLoader(val_dataset, batch_size = BATCH_SIZE)\n",
    "test_loader = DataLoader(test_dataset, batch_size = BATCH_SIZE)\n",
    "\n",
    "train_transformer_loader = DataLoader(train_transformer_dataset, batch_size=BATCH_SIZE, shuffle=True)\n",
    "val_transformer_loader = DataLoader(val_transformer_dataset, batch_size=BATCH_SIZE)\n",
    "test_transformer_loader = DataLoader(test_transformer_dataset, batch_size=BATCH_SIZE)\n",
    "\n",
    "# Check a batch\n",
    "sample_batch = next(iter(train_loader))\n",
    "print(f\"Sample batch shape for student models (input_ids): {sample_batch[\"input_ids\"].shape}\")\n",
    "print(f\"Sample batch shape for student models (labels): {sample_batch[\"labels\"].shape}\")\n",
    "\n",
    "sample_transformer_batch = next(iter(train_transformer_loader))\n",
    "print(f\"Sample batch shape for transformer (input_id): {sample_transformer_batch[\"input_ids\"].shape}\")\n",
    "print(f\"Sample batch shape for transformer (attention_mask): {sample_transformer_batch[\"attention_mask\"].shape}\")\n",
    "print(f\"Sample batch shape for transformer (labels): {sample_transformer_batch[\"labels\"].shape}\")"
   ]
  },
  {
   "cell_type": "markdown",
   "id": "cb5ae5b3",
   "metadata": {},
   "source": [
    "# 2. Building the Transformer (Teacher)"
   ]
  },
  {
   "cell_type": "code",
   "execution_count": 19,
   "id": "4dbd851d",
   "metadata": {},
   "outputs": [],
   "source": [
    "import torch.nn as nn\n",
    "import torch.optim as optim\n",
    "\n",
    "\n",
    "class TransformerClassifier(nn.Module):\n",
    "    def __init__(self, pretrained_model_name=\"distilbert-base-uncased\", num_classes=9):\n",
    "        super(TransformerClassifier, self).__init__()\n",
    "        self.transformer = AutoModel.from_pretrained(pretrained_model_name)\n",
    "        self.dropout = nn.Dropout(0.1)\n",
    "        self.classifier = nn.Linear(self.transformer.config.hidden_size, num_classes)\n",
    "    \n",
    "    def forward(self, input_ids, attention_mask=None):\n",
    "        outputs = self.transformer(input_ids=input_ids, attention_mask=attention_mask)\n",
    "        pooled_output = outputs.last_hidden_state[:, 0, :]\n",
    "        pooled_output = self.dropout(pooled_output)\n",
    "        logits = self.classifier(pooled_output)\n",
    "\n",
    "        return logits"
   ]
  },
  {
   "cell_type": "code",
   "execution_count": 20,
   "id": "f9421c4c",
   "metadata": {},
   "outputs": [],
   "source": [
    "# Function to train the teacher model\n",
    "from tqdm import tqdm\n",
    "from sklearn.metrics import accuracy_score, classification_report\n",
    "\n",
    "def train_teacher_model(model, train_loader, val_loader, num_epochs=5, learning_rate=5e-5, device=\"cuda\" if torch.cuda.is_available() else \"cpu\"):\n",
    "    model = model.to(device)\n",
    "\n",
    "    optimizer = optim.AdamW(model.parameters(), lr=learning_rate)\n",
    "    criterion = nn.CrossEntropyLoss()\n",
    "\n",
    "    # List to store metrics\n",
    "    train_losses = []\n",
    "    val_losses = []\n",
    "    val_accuracies = []\n",
    "\n",
    "    best_val_accuracy = 0\n",
    "\n",
    "    for epoch in range(num_epochs):\n",
    "        model.train()\n",
    "        train_loss = 0\n",
    "        \n",
    "        train_progress_bar = tqdm(train_loader, desc=f\"Epoch {epoch+1}/{num_epochs} [Train]\")\n",
    "        for batch in train_progress_bar:\n",
    "            input_ids = batch[\"input_ids\"].to(device)\n",
    "            attention_mask = batch[\"attention_mask\"].to(device)\n",
    "            labels = batch[\"labels\"].to(device)\n",
    "\n",
    "            # Forward pass\n",
    "            optimizer.zero_grad()\n",
    "            logits = model(input_ids, attention_mask)\n",
    "\n",
    "            # Compute loss\n",
    "            loss = criterion(logits, labels)\n",
    "            train_loss += loss.item()\n",
    "\n",
    "            # Backward pass and optimisation\n",
    "            loss.backward()\n",
    "            optimizer.step()\n",
    "\n",
    "            # Update progress bar\n",
    "            train_progress_bar.set_postfix({\"loss\": loss.item()})\n",
    "        \n",
    "        # Calculate average training loss\n",
    "        train_loss /= len(train_loader)\n",
    "        train_losses.append(train_loss)\n",
    "\n",
    "        # Validation phase\n",
    "        model.eval()\n",
    "        val_loss = 0\n",
    "        all_preds = []\n",
    "        all_labels = []\n",
    "\n",
    "        with torch.no_grad():\n",
    "            val_progress_bar = tqdm(val_loader, desc=f\"Epoch {epoch+1}/{num_epochs} [Val]\")\n",
    "            for batch in val_progress_bar:\n",
    "                inputs_ids = batch[\"input_ids\"].to(device)\n",
    "                attention_mask = batch[\"attention_mask\"].to(device)\n",
    "                labels = batch[\"labels\"].to(device)\n",
    "\n",
    "                # Forward pass\n",
    "                logits = model(inputs_ids, attention_mask)\n",
    "\n",
    "                # Compute loss\n",
    "                loss = criterion(logits, labels)\n",
    "                val_loss += loss.item()\n",
    "\n",
    "                # Get predictions\n",
    "                preds = torch.argmax(logits, dim=1).cpu().numpy()\n",
    "                all_preds.extend(preds)\n",
    "                all_labels.extend(labels.cpu().numpy())\n",
    "\n",
    "                # Update the progress bar\n",
    "                val_progress_bar.set_postfix({\"loss\": loss.item()})\n",
    "        \n",
    "        # Calculate avg validation loss and accuracy\n",
    "        val_loss /= len(val_loader)\n",
    "        val_losses.append(val_loss)\n",
    "\n",
    "        val_accuracy = accuracy_score(all_labels, all_preds)\n",
    "        val_accuracies.append(val_accuracy)\n",
    "\n",
    "        print(f\"Epoch {epoch+1}/{num_epochs}:\")\n",
    "        print(f\"Training Loss: {train_loss:.4f}\")\n",
    "        print(f\"Validation Loss: {val_loss:.4f}\")\n",
    "        print(f\"Validation Accuracy: {val_accuracy:.4f}\")\n",
    "\n",
    "        # Save the best model\n",
    "        if val_accuracy > best_val_accuracy:\n",
    "            best_val_accuracy = val_accuracy\n",
    "            torch.save(model.state_dict(), \"best_teacher_model.pth\")\n",
    "            print(f\"New best model saved with validation accuracy: {val_accuracy:.4f}\")\n",
    "    \n",
    "    # Plot training curves\n",
    "    plt.figure(figsize=(12, 5))\n",
    "\n",
    "    plt.subplot(1, 2, 1)\n",
    "    plt.plot(train_losses, label=\"Train Loss\")\n",
    "    plt.plot(val_losses, label=\"Val Loss\")\n",
    "    plt.xlabel('Epoch')\n",
    "    plt.ylabel(\"Loss\")\n",
    "    plt.legend()\n",
    "    plt.title(\"Loss Curves\")\n",
    "\n",
    "    plt.subplot(1, 2, 2)\n",
    "    plt.plot(val_accuracies, label=\"Val Accuracy\")\n",
    "    plt.xlabel('Epoch')\n",
    "    plt.ylabel(\"Accuracy\")\n",
    "    plt.legend()\n",
    "    plt.title(\"Validation Accuracy\")\n",
    "\n",
    "    plt.tight_layout()\n",
    "    plt.savefig(\"teacher_training_curves.png\")\n",
    "    plt.show()\n",
    "\n",
    "    return model"
   ]
  },
  {
   "cell_type": "code",
   "execution_count": 21,
   "id": "edaa88ba",
   "metadata": {},
   "outputs": [
    {
     "name": "stdout",
     "output_type": "stream",
     "text": [
      "using device: cuda\n"
     ]
    }
   ],
   "source": [
    "# Function to evaluate the teacher model\n",
    "def evaluate_teacher_model(model, test_loader, device=\"cuda\" if torch.cuda.is_available() else \"cpu\"):\n",
    "    model = model.to(device)\n",
    "    model.eval()\n",
    "\n",
    "    all_preds = []\n",
    "    all_labels = []\n",
    "    all_logits = []\n",
    "\n",
    "    with torch.no_grad():\n",
    "        progress_bar = tqdm(test_loader, desc=\"Evaluating\")\n",
    "        for batch in progress_bar:\n",
    "            input_ids = batch[\"input_ids\"].to(device)\n",
    "            attention_mask = batch[\"attention_mask\"].to(device)\n",
    "            labels = batch[\"labels\"].to(device)\n",
    "\n",
    "            # Forward pass\n",
    "            logits = model(input_ids, attention_mask)\n",
    "\n",
    "            # Get predictions\n",
    "            preds = torch.argmax(logits, dim=1).cpu().numpy()\n",
    "            all_preds.extend(preds)\n",
    "            all_labels.extend(labels.cpu().numpy())\n",
    "            all_logits.append(logits.cpu())\n",
    "    \n",
    "    # Calculate accuracy\n",
    "    accuracy = accuracy_score(all_labels, all_preds)\n",
    "    print(f\"Test Accuracy: {accuracy:.4f}\")\n",
    "\n",
    "    # Generate classificaiton report\n",
    "    print(f\"\\nClassification Report:\")\n",
    "    print(classification_report(all_labels, all_preds, target_names=label_encoder_l1.classes_))\n",
    "\n",
    "    # Combine all logits\n",
    "    all_logits = torch.cat(all_logits, dim=0)\n",
    "\n",
    "    return all_preds, all_labels, all_logits, accuracy\n",
    "\n",
    "device = torch.device(\"cuda\" if torch.cuda.is_available() else \"cpu\")\n",
    "print(f\"using device: {device}\")            "
   ]
  },
  {
   "cell_type": "code",
   "execution_count": 24,
   "id": "a401232a",
   "metadata": {},
   "outputs": [
    {
     "name": "stderr",
     "output_type": "stream",
     "text": [
      "Some weights of the model checkpoint at distilbert-base-uncased were not used when initializing DistilBertModel: ['vocab_layer_norm.weight', 'vocab_projector.bias', 'vocab_layer_norm.bias', 'vocab_transform.weight', 'vocab_projector.weight', 'vocab_transform.bias']\n",
      "- This IS expected if you are initializing DistilBertModel from the checkpoint of a model trained on another task or with another architecture (e.g. initializing a BertForSequenceClassification model from a BertForPreTraining model).\n",
      "- This IS NOT expected if you are initializing DistilBertModel from the checkpoint of a model that you expect to be exactly identical (initializing a BertForSequenceClassification model from a BertForSequenceClassification model).\n"
     ]
    }
   ],
   "source": [
    "# Define the model\n",
    "teacher_model = TransformerClassifier(num_classes=num_classes)"
   ]
  },
  {
   "cell_type": "code",
   "execution_count": null,
   "id": "d104150c",
   "metadata": {},
   "outputs": [
    {
     "name": "stderr",
     "output_type": "stream",
     "text": [
      "Some weights of the model checkpoint at distilbert-base-uncased were not used when initializing DistilBertModel: ['vocab_transform.weight', 'vocab_layer_norm.weight', 'vocab_transform.bias', 'vocab_projector.weight', 'vocab_layer_norm.bias', 'vocab_projector.bias']\n",
      "- This IS expected if you are initializing DistilBertModel from the checkpoint of a model trained on another task or with another architecture (e.g. initializing a BertForSequenceClassification model from a BertForPreTraining model).\n",
      "- This IS NOT expected if you are initializing DistilBertModel from the checkpoint of a model that you expect to be exactly identical (initializing a BertForSequenceClassification model from a BertForSequenceClassification model).\n",
      "Epoch 1/3 [Train]: 100%|██████████| 7530/7530 [20:30<00:00,  6.12it/s, loss=0.774]\n",
      "Epoch 1/3 [Val]: 100%|██████████| 1126/1126 [01:00<00:00, 18.76it/s, loss=1.61] \n"
     ]
    },
    {
     "name": "stdout",
     "output_type": "stream",
     "text": [
      "Epoch 1/3:\n",
      "Training Loss: 1.3369\n",
      "Validation Loss: 1.3178\n",
      "Validation Accuracy: 0.5609\n",
      "New best model saved with validation accuracy: 0.5609\n"
     ]
    },
    {
     "name": "stderr",
     "output_type": "stream",
     "text": [
      "Epoch 2/3 [Train]: 100%|██████████| 7530/7530 [20:20<00:00,  6.17it/s, loss=1.2]  \n",
      "Epoch 2/3 [Val]: 100%|██████████| 1126/1126 [01:01<00:00, 18.27it/s, loss=1.59] \n"
     ]
    },
    {
     "name": "stdout",
     "output_type": "stream",
     "text": [
      "Epoch 2/3:\n",
      "Training Loss: 1.3152\n",
      "Validation Loss: 1.3092\n",
      "Validation Accuracy: 0.5625\n",
      "New best model saved with validation accuracy: 0.5625\n"
     ]
    },
    {
     "name": "stderr",
     "output_type": "stream",
     "text": [
      "Epoch 3/3 [Train]: 100%|██████████| 7530/7530 [20:29<00:00,  6.12it/s, loss=1.26] \n",
      "Epoch 3/3 [Val]: 100%|██████████| 1126/1126 [00:59<00:00, 18.82it/s, loss=1.64] \n"
     ]
    },
    {
     "name": "stdout",
     "output_type": "stream",
     "text": [
      "Epoch 3/3:\n",
      "Training Loss: 1.3094\n",
      "Validation Loss: 1.3141\n",
      "Validation Accuracy: 0.5620\n"
     ]
    },
    {
     "data": {
      "image/png": "[encoded data removed]",
      "text/plain": [
       "<Figure size 1200x500 with 2 Axes>"
      ]
     },
     "metadata": {},
     "output_type": "display_data"
    },
    {
     "name": "stderr",
     "output_type": "stream",
     "text": [
      "Evaluating: 100%|██████████| 1900/1900 [01:40<00:00, 18.98it/s]"
     ]
    },
    {
     "name": "stdout",
     "output_type": "stream",
     "text": [
      "Test Accuracy: 0.5608\n",
      "\n",
      "Classification Report:\n",
      "                precision    recall  f1-score   support\n",
      "\n",
      "         Agent       0.54      1.00      0.70     31495\n",
      "        Device       0.00      0.00      0.00        62\n",
      "         Event       0.74      0.04      0.07      4820\n",
      "         Place       0.96      0.09      0.17     11574\n",
      "       Species       0.98      0.14      0.25      5418\n",
      "  SportsSeason       0.94      0.06      0.11      1483\n",
      "TopicalConcept       0.67      0.02      0.04       198\n",
      "    UnitOfWork       0.89      0.11      0.19       444\n",
      "          Work       0.86      0.11      0.19      5300\n",
      "\n",
      "      accuracy                           0.56     60794\n",
      "     macro avg       0.73      0.17      0.19     60794\n",
      "  weighted avg       0.72      0.56      0.44     60794\n",
      "\n",
      "Teacher model accuracy: 0.5608\n"
     ]
    },
    {
     "name": "stderr",
     "output_type": "stream",
     "text": [
      "\n",
      "c:\\Users\\bharg\\miniconda3\\Lib\\site-packages\\sklearn\\metrics\\_classification.py:1565: UndefinedMetricWarning: Precision is ill-defined and being set to 0.0 in labels with no predicted samples. Use `zero_division` parameter to control this behavior.\n",
      "  _warn_prf(average, modifier, f\"{metric.capitalize()} is\", len(result))\n",
      "c:\\Users\\bharg\\miniconda3\\Lib\\site-packages\\sklearn\\metrics\\_classification.py:1565: UndefinedMetricWarning: Precision is ill-defined and being set to 0.0 in labels with no predicted samples. Use `zero_division` parameter to control this behavior.\n",
      "  _warn_prf(average, modifier, f\"{metric.capitalize()} is\", len(result))\n",
      "c:\\Users\\bharg\\miniconda3\\Lib\\site-packages\\sklearn\\metrics\\_classification.py:1565: UndefinedMetricWarning: Precision is ill-defined and being set to 0.0 in labels with no predicted samples. Use `zero_division` parameter to control this behavior.\n",
      "  _warn_prf(average, modifier, f\"{metric.capitalize()} is\", len(result))\n"
     ]
    }
   ],
   "source": [
    "\n",
    "teacher_model = train_teacher_model(\n",
    "    teacher_model,\n",
    "    train_transformer_loader,\n",
    "    val_transformer_loader,\n",
    "    num_epochs=3,\n",
    "    learning_rate=3e-4,\n",
    "    device=device\n",
    ")\n",
    "\n",
    "# Evaluate the teacher model\n",
    "teacher_preds, teacher_labels, teacher_logits, teacher_accuracy = evaluate_teacher_model(\n",
    "    teacher_model,\n",
    "    test_transformer_loader,\n",
    "    device=device\n",
    ")\n",
    "print(f\"Teacher model accuracy: {teacher_accuracy:.4f}\")"
   ]
  },
  {
   "cell_type": "code",
   "execution_count": 23,
   "id": "1fb68c24",
   "metadata": {},
   "outputs": [],
   "source": [
    "teacher_probs = F.softmax(teacher_logits, dim=1)\n",
    "torch.save(teacher_probs, \"teacher_probs.pt\")"
   ]
  },
  {
   "cell_type": "code",
   "execution_count": 25,
   "id": "5d6072a8",
   "metadata": {},
   "outputs": [],
   "source": [
    "device = torch.device('cuda' if torch.cuda.is_available() else 'cpu')\n",
    "teacher_probs = torch.load(\"teacher_probs.pt\", map_location=device)"
   ]
  },
  {
   "cell_type": "code",
   "execution_count": 26,
   "id": "a54b7350",
   "metadata": {},
   "outputs": [
    {
     "name": "stdout",
     "output_type": "stream",
     "text": [
      "Teacher model has 66,369,801 parameters\n"
     ]
    }
   ],
   "source": [
    "def count_parameters(model):\n",
    "    return sum(p.numel() for p in model.parameters() if p.requires_grad)\n",
    "\n",
    "print(f\"Teacher model has {count_parameters(teacher_model):,} parameters\")"
   ]
  },
  {
   "cell_type": "code",
   "execution_count": 28,
   "id": "f3ee6a81",
   "metadata": {},
   "outputs": [],
   "source": [
    "# Define the BiLSTM model\n",
    "class BiLSTMClissifier(nn.Module):\n",
    "    def __init__(self, vocab_size, embedding_dim=100, hidden_dim=128, output_dim=9, n_layers=2, dropout=0.5):\n",
    "        super(BiLSTMClissifier, self).__init__()\n",
    "\n",
    "        # Embedding layer\n",
    "        self.embedding = nn.Embedding(vocab_size, embedding_dim, padding_idx=0)\n",
    "\n",
    "        # BiLSTM layer\n",
    "        self.lstm = nn.LSTM(\n",
    "            embedding_dim,\n",
    "            hidden_dim,\n",
    "            num_layers=n_layers,\n",
    "            bidirectional=True,\n",
    "            dropout=dropout if n_layers > 1 else 0,\n",
    "            batch_first=True\n",
    "        )\n",
    "\n",
    "        # Fully connected layer for classification\n",
    "        self.fc = nn.Linear(hidden_dim * 2, output_dim)\n",
    "\n",
    "        # Dropout layer\n",
    "        self.dropout = nn.Dropout(dropout)\n",
    "\n",
    "    def forward(self, text):\n",
    "        embedding = self.embedding(text)\n",
    "        output, (hidden, cell) = self.lstm(embedding)\n",
    "\n",
    "        hidden = torch.cat((hidden[-2, :, :], hidden[-1, :, :]), dim=1)\n",
    "        hidden = self.dropout(hidden)\n",
    "        logits = self.fc(hidden)\n",
    "\n",
    "        return logits"
   ]
  },
  {
   "cell_type": "code",
   "execution_count": 29,
   "id": "bf8cf94f",
   "metadata": {},
   "outputs": [],
   "source": [
    "# CNN Model\n",
    "class CNNClassifier(nn.Module):\n",
    "    def __init__(self, vocab_size, embedding_dim=100, n_filters=100,\n",
    "                 filter_sizes=[3, 4, 5], output_dim=9, dropout=0.5):\n",
    "        super(CNNClassifier, self).__init__()\n",
    "\n",
    "        self.embedding = nn.Embedding(vocab_size, embedding_dim, padding_idx=0)\n",
    "        \n",
    "        self.convs = nn.ModuleList([\n",
    "            nn.Conv2d(in_channels=1, out_channels=n_filters,\n",
    "                      kernel_size=(fs, embedding_dim))\n",
    "            for fs in filter_sizes\n",
    "        ])\n",
    "\n",
    "        self.fc = nn.Linear(len(filter_sizes) * n_filters, output_dim)\n",
    "        self.dropout = nn.Dropout(dropout)\n",
    "\n",
    "    def forward(self, text):\n",
    "        embedded = self.embedding(text)\n",
    "        embedded = embedded.unsqueeze(1)\n",
    "        conved = [F.relu(conv(embedded)).squeeze(3) for conv in self.convs]\n",
    "\n",
    "        pooled = [F.max_pool1d(conv, conv.shape[2]).squeeze(2) for conv in conved]\n",
    "\n",
    "        cat = torch.cat(pooled, dim=1)\n",
    "        cat = self.dropout(cat)\n",
    "        logits = self.fc(cat)\n",
    "\n",
    "        return logits"
   ]
  },
  {
   "cell_type": "code",
   "execution_count": 30,
   "id": "828be780",
   "metadata": {},
   "outputs": [],
   "source": [
    "# Function to count parameters\n",
    "def count_parameters(model):\n",
    "    return sum(p.numel() for p in model.parameters() if p.requires_grad)\n"
   ]
  },
  {
   "cell_type": "code",
   "execution_count": 31,
   "id": "dc0d952d",
   "metadata": {},
   "outputs": [],
   "source": [
    "# Initialize student models\n",
    "bilstm_model = BiLSTMClissifier(vocab_size=vocab_size, output_dim=num_classes)\n",
    "cnn_model = CNNClassifier(vocab_size=vocab_size, output_dim=num_classes)"
   ]
  },
  {
   "cell_type": "code",
   "execution_count": 33,
   "id": "d7ac881d",
   "metadata": {},
   "outputs": [
    {
     "name": "stdout",
     "output_type": "stream",
     "text": [
      "BiLSTM model has 3,633,097 parameters\n",
      "CNN model has 3,123,009 parameters\n",
      "Teacher model has 66,369,801 parameters\n"
     ]
    }
   ],
   "source": [
    "# Print model sizes\n",
    "print(f'BiLSTM model has {count_parameters(bilstm_model):,} parameters')\n",
    "print(f'CNN model has {count_parameters(cnn_model):,} parameters')\n",
    "print(f'Teacher model has {count_parameters(teacher_model):,} parameters')"
   ]
  },
  {
   "cell_type": "code",
   "execution_count": 34,
   "id": "9b0fa1a9",
   "metadata": {},
   "outputs": [
    {
     "name": "stdout",
     "output_type": "stream",
     "text": [
      "BiLSTM model is 94.53% smaller than the teacher model\n"
     ]
    }
   ],
   "source": [
    "# BiLSTM size reduction compared to teacher\n",
    "bilstm_reduction = (1-count_parameters(bilstm_model) / count_parameters(teacher_model)) * 100\n",
    "print(f\"BiLSTM model is {bilstm_reduction:.2f}% smaller than the teacher model\")"
   ]
  },
  {
   "cell_type": "code",
   "execution_count": 35,
   "id": "c53167d7",
   "metadata": {},
   "outputs": [
    {
     "name": "stdout",
     "output_type": "stream",
     "text": [
      "CNN model is 95.29% smaller than the teacher model\n"
     ]
    }
   ],
   "source": [
    "# CNN size reduction compared to teacher\n",
    "cnn_reduction = (1-count_parameters(cnn_model) / count_parameters(teacher_model)) * 100\n",
    "print(f\"CNN model is {cnn_reduction:.2f}% smaller than the teacher model\")"
   ]
  },
  {
   "cell_type": "markdown",
   "id": "a33c718c",
   "metadata": {},
   "source": [
    "# Implement Knowledge Distillation"
   ]
  },
  {
   "cell_type": "code",
   "execution_count": 36,
   "id": "2c7d812c",
   "metadata": {},
   "outputs": [],
   "source": [
    "def distillation_loss(student_logits, teacher_probs, labels, temperature=2.0, alpha=0.5):\n",
    "    \"\"\"Compute the knowledge distillation loss\"\"\"\n",
    "    student_logits_soft = student_logits / temperature\n",
    "\n",
    "    soft_targets_loss = F.kl_div(\n",
    "        F.log_softmax(student_logits_soft, dim=1),\n",
    "        teacher_probs,\n",
    "        reduction=\"batchmean\"\n",
    "    ) * (temperature ** 2)\n",
    "\n",
    "    # Compute hard targets loss\n",
    "    hard_targets_loss = F.cross_entropy(student_logits, labels)\n",
    "    loss = alpha * soft_targets_loss + (1 - alpha) * hard_targets_loss\n",
    "\n",
    "    return loss"
   ]
  },
  {
   "cell_type": "code",
   "execution_count": null,
   "id": "d9041dd8",
   "metadata": {},
   "outputs": [],
   "source": [
    "def train_student_model(\n",
    "        model, \n",
    "        train_loader,\n",
    "        val_loader,\n",
    "        teacher_probs_path = \"teacher_probs.pt\",\n",
    "        num_epochs = 10,\n",
    "        learning_rate = 0.001,\n",
    "        temperature = 2.0,\n",
    "        alpha = 0.5,\n",
    "        device = \"cuda\" if torch.cuda.is_available() else \"cpu\"\n",
    "):\n",
    "    model = model.to(device)\n",
    "    teacher_probs = torch.load(teacher_probs_path)\n",
    "    optimizer = optim.Adam(model.parameters(), lr=learning_rate)\n",
    "\n",
    "    scheduler = optim.lr_scheduler.ReduceLROnPlateau(\n",
    "        optimizer, \"min\", patience=2, factor=0.5, verbose=True\n",
    "    )\n",
    "\n",
    "    # List to store metrics\n",
    "    train_losses = []\n",
    "    val_losses = []\n",
    "    val_accuracies = []\n",
    "\n",
    "    # train loop\n",
    "    best_val_accuracy = 0\n",
    "\n",
    "    for epoch in range(num_epochs):\n",
    "        model.train()\n",
    "        train_loss = 0\n",
    "\n",
    "        train_progress_bar = tqdm(train_loader, desc=f\"Epoch {epoch+1}/{num_epochs} [Train]\")\n",
    "        for i, batch in enumerate(train_progress_bar):\n",
    "            input_ids = batch[\"input_ids\"].to(device)\n",
    "            labels = batch[\"labels\"].to(device)\n",
    "\n",
    "            "
   ]
  }
 ],
 "metadata": {
  "kernelspec": {
   "display_name": "base",
   "language": "python",
   "name": "python3"
  },
  "language_info": {
   "codemirror_mode": {
    "name": "ipython",
    "version": 3
   },
   "file_extension": ".py",
   "mimetype": "text/x-python",
   "name": "python",
   "nbconvert_exporter": "python",
   "pygments_lexer": "ipython3",
   "version": "3.12.3"
  }
 },
 "nbformat": 4,
 "nbformat_minor": 5
}
